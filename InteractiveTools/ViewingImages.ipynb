{
 "cells": [
  {
   "cell_type": "code",
   "execution_count": null,
   "metadata": {},
   "outputs": [],
   "source": [
    "image = '../BallDataProcessing/2_clean/input/single_layer.tif'"
   ]
  },
  {
   "cell_type": "code",
   "execution_count": null,
   "metadata": {},
   "outputs": [],
   "source": [
    "from PIL import Image, ImageDraw\n",
    "import random\n",
    "import scipy\n",
    "import json\n",
    "import copy"
   ]
  },
  {
   "cell_type": "code",
   "execution_count": null,
   "metadata": {},
   "outputs": [],
   "source": [
    "# Load Image\n",
    "Image.MAX_IMAGE_PIXELS = 500000000\n",
    "im = Image.open(image)\n",
    "\n",
    "# Load Clipping Boundary\n",
    "cb = json.load(open('../BallDataProcessing/2_clean/input/clipping_boundary.geojson'))\n",
    "\n",
    "# Load Clean Trees\n",
    "trees = json.load(open('../BallDataProcessing/2_clean/output/treesCleaned.json'))\n",
    "coords = [c['geometry']['coordinates'] for c in trees['features']]\n",
    "species = [c['properties']['other_tags'] for c in trees['features']]\n",
    "classes = [c['properties']['class'] for c in trees['features']]\n",
    "\n",
    "drawInfo = [(x['properties']['box_x'], x['properties']['box_y'],\n",
    "             x['properties']['class'], x['properties']['box_w']) for x in trees['features']]"
   ]
  },
  {
   "cell_type": "code",
   "execution_count": null,
   "metadata": {},
   "outputs": [],
   "source": [
    "# Draw boxes on the image\n",
    "\n",
    "for x,y,c,w in drawInfo:\n",
    "    draw = ImageDraw.Draw(im)\n",
    "    draw.point((x, y)) \n",
    "    if c == \"banana tree\":\n",
    "        lc='goldenrod'\n",
    "        box_w=50\n",
    "    elif c == 'coconut tree':\n",
    "        lc='white'\n",
    "        box_w=100\n",
    "    elif c == \"pole\":\n",
    "        lc='black'\n",
    "        box_w=10\n",
    "    else:\n",
    "        lc='salmon'\n",
    "        box_w=200\n",
    "    \n",
    "    draw.line([(x-box_w/2, y-box_w/2), (x+box_w/2, y-box_w/2), \n",
    "               (x+box_w/2, y+box_w/2), (x-box_w/2, y+box_w/2), \n",
    "               (x-box_w/2, y-box_w/2)], width=2, fill=lc)\n",
    "    \n",
    "im = im.resize((round(im.width/5), round(im.height/5)))\n",
    "im\n",
    "# im.show()"
   ]
  },
  {
   "cell_type": "code",
   "execution_count": null,
   "metadata": {},
   "outputs": [],
   "source": []
  }
 ],
 "metadata": {
  "kernelspec": {
   "display_name": "Python 3",
   "language": "python",
   "name": "python3"
  },
  "language_info": {
   "codemirror_mode": {
    "name": "ipython",
    "version": 3
   },
   "file_extension": ".py",
   "mimetype": "text/x-python",
   "name": "python",
   "nbconvert_exporter": "python",
   "pygments_lexer": "ipython3",
   "version": "3.6.3"
  }
 },
 "nbformat": 4,
 "nbformat_minor": 2
}
