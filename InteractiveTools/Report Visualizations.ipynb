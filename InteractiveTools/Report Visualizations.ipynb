{
 "cells": [
  {
   "cell_type": "markdown",
   "metadata": {},
   "source": [
    "# Plots for the Poster"
   ]
  },
  {
   "cell_type": "markdown",
   "metadata": {},
   "source": [
    "## Comparing Average Precisions Across Models"
   ]
  },
  {
   "cell_type": "code",
   "execution_count": 5,
   "metadata": {
    "collapsed": true
   },
   "outputs": [],
   "source": [
    "iou = 0.5\n",
    "inFile = '../../5_evaluate/output/mAP.txt'"
   ]
  },
  {
   "cell_type": "code",
   "execution_count": 6,
   "metadata": {},
   "outputs": [],
   "source": [
    "import matplotlib.pyplot as plt\n",
    "import numpy as np\n",
    "import itertools\n",
    "import json\n",
    "\n",
    "# Load Data\n",
    "data = []\n",
    "with open(inFile) as f:\n",
    "    for line in f:\n",
    "        j_content = json.loads(line)\n",
    "        data.append(j_content)"
   ]
  },
  {
   "cell_type": "code",
   "execution_count": 7,
   "metadata": {},
   "outputs": [
    {
     "name": "stdout",
     "output_type": "stream",
     "text": [
      "[{'time': '2018-03-29-23:03:01', 'model': '22froze30000', 'iouThresh': 0.5, 'banana treeAP': 0.00023019253577348175, 'coconut treeAP': 0.0011413988630151715, 'mAP': 0.0006857956993943266}, {'time': '2018-03-29-23:03:44', 'model': '13froze30000', 'iouThresh': 0.5, 'banana treeAP': 0.2599237839688532, 'coconut treeAP': 0.6752537725553582, 'mAP': 0.4675887782621057}, {'time': '2018-03-29-23:04:00', 'model': 'basic30000', 'iouThresh': 0.5, 'banana treeAP': 0.3448189224163954, 'coconut treeAP': 0.7047869922129548, 'mAP': 0.5248029573146751}, {'time': '2018-03-29-23:05:33', 'model': 'noaugment30000', 'iouThresh': 0.5, 'banana treeAP': 0.4105952633603984, 'coconut treeAP': 0.7238099123165336, 'mAP': 0.567202587838466}, {'time': '2018-04-02-20:47:38', 'model': 'anchors30000', 'iouThresh': 0.5, 'coconut treeAP': 0.0, 'banana treeAP': 0.00017165178238325585, 'mAP': 8.582589119162793e-05}, {'time': '2018-04-06-18:32:40', 'model': 'allclasses130000', 'iouThresh': 0.5, 'mango treeAP': 0.0, 'papaya treeAP': 0.0, 'settlementAP': nan, 'power poleAP': 0.0, 'otherAP': 0.0007394452626411389, 'banana treeAP': 0.0016452576487799503, 'coconut treeAP': 0.6562485360995234, 'mAP': nan}, {'time': '2018-04-06-23:00:06', 'model': 'allclasses120000', 'iouThresh': 0.5, 'coconut treeAP': 0.38454245400733245, 'mango treeAP': 0.0, 'otherAP': 0.0009682885499878965, 'papaya treeAP': nan, 'power poleAP': 0.0, 'settlementAP': nan, 'banana treeAP': 0.00031809399807325293, 'mAP': nan}, {'time': '2018-04-13-03:54:00', 'model': 'lbl22', 'iouThresh': 0.5, 'banana treeAP': 0.00020994521189120088, 'coconut treeAP': 0.0007932102420851552, 'mAP': 0.000501577726988178}, {'time': '2018-04-13-03:56:16', 'model': 'lbl20', 'iouThresh': 0.5, 'banana treeAP': 0.01144407206616025, 'coconut treeAP': 0.36633974333383135, 'mAP': 0.1888919076999958}, {'time': '2018-04-13-03:57:16', 'model': 'lbl19', 'iouThresh': 0.5, 'banana treeAP': 0.05168919876300316, 'coconut treeAP': 0.5403165346165297, 'mAP': 0.29600286668976644}, {'time': '2018-04-13-03:57:44', 'model': 'lbl18', 'iouThresh': 0.5, 'banana treeAP': 0.05984755448779286, 'coconut treeAP': 0.6203103699409436, 'mAP': 0.34007896221436823}, {'time': '2018-04-13-03:58:10', 'model': 'lbl17', 'iouThresh': 0.5, 'banana treeAP': 0.11931757675717905, 'coconut treeAP': 0.63611717664729, 'mAP': 0.3777173767022345}, {'time': '2018-04-13-03:58:38', 'model': 'lbl16', 'iouThresh': 0.5, 'banana treeAP': 0.035788896081702645, 'coconut treeAP': 0.615549236632309, 'mAP': 0.3256690663570058}, {'time': '2018-04-13-03:59:12', 'model': 'lbl15', 'iouThresh': 0.5, 'banana treeAP': 0.0839812649520889, 'coconut treeAP': 0.6185356123288239, 'mAP': 0.3512584386404564}, {'time': '2018-04-13-05:02:47', 'model': 'lbl14', 'iouThresh': 0.5, 'banana treeAP': 0.08149406097266104, 'coconut treeAP': 0.6305685627063506, 'mAP': 0.35603131183950587}, {'time': '2018-04-13-16:40:44', 'model': 'balanced30000', 'iouThresh': 0.5, 'banana treeAP': 0.2825797202310075, 'coconut treeAP': 0.6471942409726857, 'mAP': 0.46488698060184663}, {'time': '2018-04-08-06:09:10', 'model': 'allv3', 'iouThresh': 0.5, 'banana treeAP': 0.05485843196344811, 'coconut treeAP': 0.5566428049573664, 'mango treeAP': 3.916960438699569e-05, 'otherAP': 0.0, 'papaya treeAP': 0.0, 'power poleAP': 0.0, 'mAP': 0.10192340108753357}, {'time': '2018-04-10-17:32:28', 'model': 'allv3-30000', 'iouThresh': 0.5, 'banana treeAP': 0.18901643440287474, 'coconut treeAP': 0.6536175208059787, 'mango treeAP': 0.0, 'otherAP': 0.0, 'papaya treeAP': 0.0, 'power poleAP': 0.0030303030303030307, 'settlementAP': nan, 'mAP': nan}, {'time': '2018-04-10-17:43:16', 'model': 'allv3-40000', 'iouThresh': 0.5, 'banana treeAP': 0.24456540039384064, 'coconut treeAP': 0.5968107064067794, 'mango treeAP': 0.0, 'otherAP': 0.0001724137931034483, 'papaya treeAP': 0.0, 'power poleAP': 0.007692307692307693, 'settlementAP': nan, 'mAP': nan}, {'time': '2018-04-13-20:19:07', 'model': 'allv2-20000', 'iouThresh': 0.5, 'banana treeAP': 0.22000113603996807, 'coconut treeAP': 0.7127478309383446, 'mango treeAP': 0.00149812734082397, 'otherAP': 0.03888888888888889, 'papaya treeAP': 0.0, 'power poleAP': 0.0, 'mAP': 0.46637448348915633}]\n"
     ]
    }
   ],
   "source": [
    "# extract relevent data\n",
    "data_iou = [x for x in data if x['iouThresh']==iou]\n"
   ]
  },
  {
   "cell_type": "code",
   "execution_count": 8,
   "metadata": {},
   "outputs": [
    {
     "name": "stdout",
     "output_type": "stream",
     "text": [
      "[0.567202587838466, 0.4105952633603984, 0.7238099123165336]\n",
      "[0.5248029573146751, 0.3448189224163954, 0.7047869922129548]\n",
      "[0.0006857956993943266, 0.00023019253577348175, 0.0011413988630151715]\n",
      "[0.4675887782621057, 0.2599237839688532, 0.6752537725553582]\n",
      "[0.46488698060184663, 0.2825797202310075, 0.6471942409726857]\n",
      "[0.46637448348915633, 0.22000113603996807, 0.7127478309383446]\n",
      "[0.46637448348915633, 0.22000113603996807, 0.7127478309383446]\n"
     ]
    }
   ],
   "source": [
    "noaug = [(x['mAP'], x['banana treeAP'], x['coconut treeAP']) for x in data_iou if x['model']=='noaugment30000']\n",
    "noaug = list(itertools.chain(*noaug)) # Flattens List\n",
    "print(noaug)\n",
    "\n",
    "basic = [(x['mAP'], x['banana treeAP'], x['coconut treeAP']) for x in data_iou if x['model']=='basic30000']\n",
    "basic = list(itertools.chain(*basic)) # Flattens Lis\n",
    "print(basic)\n",
    "\n",
    "frz22 = [(x['mAP'], x['banana treeAP'], x['coconut treeAP']) for x in data_iou if x['model']=='22froze30000']\n",
    "frz22 = list(itertools.chain(*frz22)) # Flattens List\n",
    "print(frz22)\n",
    "\n",
    "frz13 = [(x['mAP'], x['banana treeAP'], x['coconut treeAP']) for x in data_iou if x['model']=='13froze30000']\n",
    "frz13 = list(itertools.chain(*frz13)) # Flattens List\n",
    "print(frz13)\n",
    "\n",
    "balan = [(x['mAP'], x['banana treeAP'], x['coconut treeAP']) for x in data_iou if x['model']=='balanced30000']\n",
    "balan = list(itertools.chain(*balan)) # Flattens List\n",
    "print(balan)\n",
    "\n",
    "allv2 = [(x['mAP'], x['banana treeAP'], x['coconut treeAP']) for x in data_iou if x['model']=='allv2-20000']\n",
    "allv2 = list(itertools.chain(*allv2)) # Flattens List\n",
    "print(allv2)\n",
    "\n",
    "ancho = [(x['mAP'], x['banana treeAP'], x['coconut treeAP']) for x in data_iou if x['model']=='anchors30000']\n",
    "ancho = list(itertools.chain(*ancho)) # Flattens List\n",
    "print(allv2)"
   ]
  },
  {
   "cell_type": "code",
   "execution_count": 13,
   "metadata": {},
   "outputs": [],
   "source": [
    "# Plot\n",
    "fig, ax = plt.subplots(ncols=1, figsize=(30,20))\n",
    "\n",
    "ind = np.arange(len(basic))\n",
    "width = 0.09\n",
    "colours = ['#4d4d4d', '#cd2323', '#4d4d4d', '#4d4d4d']\n",
    "\n",
    "p1 = ax.bar(ind, noaug, width, color=colours[0], alpha=1)\n",
    "p2 = ax.bar(ind+width+0.01, basic, width, color=colours[1], alpha=1)\n",
    "p3 = ax.bar(ind+2*(width+0.01), frz13, width, color=colours[3], alpha=0.8)\n",
    "p4 = ax.bar(ind+3*(width+0.01), frz22, width, color=colours[2], alpha=0.6)\n",
    "p5 = ax.bar(ind+4*(width+0.01), balan, width, color=colours[3], alpha=0.4)\n",
    "p6 = ax.bar(ind+5*(width+0.01), allv2, width, color=colours[3], alpha=0.2)\n",
    "\n",
    "# Adjust spines\n",
    "ax.spines['right'].set_visible(False)\n",
    "ax.spines['top'].set_visible(False)\n",
    "ax.spines['left'].set_visible(False)\n",
    "ax.spines['bottom'].set_visible(False)\n",
    "\n",
    "# Adjust Ticks\n",
    "ax.tick_params(axis='y', direction='out', color='#4d4d4d', which='both', labelcolor='#4d4d4d', labelsize=24)\n",
    "ax.tick_params(axis='x', color='white', labelcolor='#4d4d4d', labelsize=24)\n",
    "plt.yticks([0, 0.1, 0.2, 0.3, 0.4, 0.5, 0.6, 0.7])\n",
    "plt.xticks([0.25, 1.25, 2.25], ['mAP over Bananas and Coconuts', 'Banana Trees', 'Coconut Trees'],fontsize=24)\n",
    "\n",
    "# Adjust Grid\n",
    "ax.grid(axis='y', color='white', linewidth=1)\n",
    "ax.set_ylim(0, 0.8)\n",
    "\n",
    "# Add text to plot\n",
    "ax.set_ylabel('Average Precision', color='#4d4d4d', size=30, labelpad=30)\n",
    "\n",
    "# Add Legend\n",
    "ax.legend((p1[0], p2[0], p3[0], p4[0], p5[0], p6[0]), \n",
    "          ('No Augmentation', 'No Pretraining',\n",
    "          'Pretrained (22 Frozen Layers)', \"Pretrained (13 Frozen Layers)\",\n",
    "          'Balanced Dataset', 'Detecting Seven Classes'),\n",
    "          loc=9, ncol=2, frameon=False, borderpad=0, prop={'size': 25})\n",
    "\n",
    "\n",
    "# Add Title\n",
    "ax.set_title('Comparing Model Performance', size=36, color='#4d4d4d')\n",
    "plt.savefig('../output/plot.png')"
   ]
  },
  {
   "cell_type": "markdown",
   "metadata": {},
   "source": [
    "##  Plotting Increasing mAP in iterative unfreezing process\n"
   ]
  },
  {
   "cell_type": "code",
   "execution_count": 15,
   "metadata": {},
   "outputs": [
    {
     "name": "stdout",
     "output_type": "stream",
     "text": [
      "[(0.000501577726988178, 0.00020994521189120088, 0.0007932102420851552), (0.1888919076999958, 0.01144407206616025, 0.36633974333383135), (0.29600286668976644, 0.05168919876300316, 0.5403165346165297), (0.34007896221436823, 0.05984755448779286, 0.6203103699409436), (0.3777173767022345, 0.11931757675717905, 0.63611717664729), (0.3256690663570058, 0.035788896081702645, 0.615549236632309), (0.3512584386404564, 0.0839812649520889, 0.6185356123288239), (0.35603131183950587, 0.08149406097266104, 0.6305685627063506)]\n"
     ]
    }
   ],
   "source": [
    "lbl = [(x['mAP'], x['banana treeAP'], x['coconut treeAP']) for x in data_iou if x['model'].startswith('lbl')]\n",
    "#lbl = list(itertools.chain(*lbl)) # Flattens List\n",
    "print(lbl)"
   ]
  },
  {
   "cell_type": "code",
   "execution_count": 46,
   "metadata": {},
   "outputs": [
    {
     "name": "stdout",
     "output_type": "stream",
     "text": [
      "[0 1 2 3 4 5 6 7]\n"
     ]
    }
   ],
   "source": [
    "# Plot\n",
    "fig, ax = plt.subplots(ncols=1, figsize=(30,20))\n",
    "\n",
    "colours = ['#000000','#ffff00', '#996600']\n",
    "\n",
    "ind = np.arange(len(lbl))\n",
    "print(ind)"
   ]
  },
  {
   "cell_type": "code",
   "execution_count": 63,
   "metadata": {
    "collapsed": true
   },
   "outputs": [],
   "source": [
    "p1 = ax.plot(ind, [x[0] for x in lbl], linewidth=6, color= colours[0]) #mAP\n",
    "p2 = ax.plot(ind, [x[1] for x in lbl], linewidth=6, color= colours[1]) #bAP\n",
    "p3 = ax.plot(ind, [x[2] for x in lbl], linewidth=6, color= colours[2]) #cAP\n",
    "\n",
    "# Add text to plot\n",
    "ax.set_ylabel('Average Precision', color=colours[0], size=30, labelpad=30)\n",
    "ax.set_xlabel('Unfrozen Layers (out of 23 convolutional layers)', color=colours[0], size=30, labelpad=30)\n",
    "\n",
    "# Adjust Ticks\n",
    "ax.tick_params(axis='y',labelsize=24)\n",
    "ax.tick_params(axis='x', color='black', labelcolor='#4d4d4d', labelsize=24)\n",
    "plt.xticks(ind,['1','3','4','5','6','7','8','9'])\n",
    "\n",
    "# Add Legend\n",
    "ax.legend((p3[0], p1[0], p2[0]), \n",
    "          ('Coconut AP', 'mAP', 'Banana AP', ),\n",
    "          loc=2, ncol=1, frameon=False, borderpad=0, prop={'size': 25})\n",
    "\n",
    "# Add Title\n",
    "ax.set_title('How Average Precision Increases as Layers are Unfrozen', size=36, color='#4d4d4d')\n",
    "\n",
    "plt.savefig('output/plot2.png', bbox_inches='tight')"
   ]
  },
  {
   "cell_type": "code",
   "execution_count": null,
   "metadata": {
    "collapsed": true
   },
   "outputs": [],
   "source": []
  },
  {
   "cell_type": "code",
   "execution_count": null,
   "metadata": {
    "collapsed": true
   },
   "outputs": [],
   "source": []
  }
 ],
 "metadata": {
  "kernelspec": {
   "display_name": "Python 3",
   "language": "python",
   "name": "python3"
  },
  "language_info": {
   "codemirror_mode": {
    "name": "ipython",
    "version": 3
   },
   "file_extension": ".py",
   "mimetype": "text/x-python",
   "name": "python",
   "nbconvert_exporter": "python",
   "pygments_lexer": "ipython3",
   "version": "3.6.3"
  }
 },
 "nbformat": 4,
 "nbformat_minor": 2
}
