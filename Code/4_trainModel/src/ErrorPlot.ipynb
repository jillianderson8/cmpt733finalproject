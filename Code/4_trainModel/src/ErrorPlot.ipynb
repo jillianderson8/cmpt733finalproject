{
 "cells": [
  {
   "cell_type": "code",
   "execution_count": 3,
   "metadata": {
    "collapsed": true
   },
   "outputs": [],
   "source": [
    "def moving(mylist, N):\n",
    "    cumsum, moving_aves = [0], []\n",
    "    for i, x in enumerate(mylist, 1):\n",
    "        cumsum.append(cumsum[i-1] + x)\n",
    "        #if i>=N:\\n\",\n",
    "        incl = min(i, N)\n",
    "        moving_ave = (cumsum[i] - cumsum[i-incl])/incl\n",
    "        #can do stuff with moving_ave here\n",
    "        moving_aves.append(moving_ave)\n",
    "    return moving_aves "
   ]
  },
  {
   "cell_type": "code",
   "execution_count": 4,
   "metadata": {
    "collapsed": true
   },
   "outputs": [],
   "source": [
    "import re\n",
    "import pandas as pd\n",
    "import math\n",
    "\n",
    "df = pd.DataFrame()\n",
    "\n",
    "frequency = 1\n",
    "\n",
    "pattern = re.compile(r'^([0-9]*): ([0-9]+.[0-9]+), ([0-9]+.[0-9]+) avg')\n",
    "testrange = { 'min' : math.inf, 'max' : 0 }\n",
    "trainrange = { 'min' : math.inf }\n",
    "\n",
    "paths = [\n",
    "    '../../5_evaluate/input/results/allclasses1/allclasses.out',\n",
    "]\n",
    "files = [open(path) for path in paths]\n",
    "\n",
    "\n",
    "data = [[] for _ in files]\n",
    "\n",
    "try:\n",
    "    nextlines = [next(lines) for lines in iter(files)]\n",
    "    finished = False\n",
    "except:\n",
    "    finished = True\n",
    "while not finished:\n",
    "    \n",
    "    m = [pattern.search(nextline) for nextline in nextlines]\n",
    "\n",
    "    testerror = [float(match.group(3)) if match else 0.0 for match in m]        \n",
    "    trainerror = [float(match.group(2)) if match else 0.0 for match in m]\n",
    "    \n",
    "    if all(m):\n",
    "        for i in range(len(m)):\n",
    "            data[i].append([int(m[i].group(1)), trainerror[i], testerror[i]])\n",
    "\n",
    "    try:\n",
    "        nextlines = [next(lines) for lines in iter(files)]\n",
    "    except:\n",
    "        finished = True\n",
    "\n",
    "dfs = [pd.DataFrame(d) for d in data]"
   ]
  },
  {
   "cell_type": "code",
   "execution_count": 9,
   "metadata": {},
   "outputs": [],
   "source": [
    "import matplotlib.pyplot as plt\n",
    "\n",
    "plt.figure(0, figsize=(24,15))\n",
    "for i in range(len(dfs)):\n",
    "    df = dfs[i]\n",
    "    ma = moving(df[1],126)\n",
    "    \n",
    "    plt.scatter(df[0], ma, s=2, label=paths[i])\n",
    "plt.ylim([0,150])\n",
    "plt.title(\"Training Error Convergence during Training of the Detecting Seven Classes Model\", fontsize=30)\n",
    "plt.xlabel(\"Iteration\", fontsize=30)\n",
    "plt.ylabel(\"Sum Squared Error\", fontsize=30)\n",
    "#plt.xticks(fontsize=14, rotation=90)\n",
    "plt.tick_params(axis='both', which='major', labelsize=25)\n",
    "#plt.xlim(30000,40000)\n",
    "#plt.legend()\n",
    "#plt.show()\n",
    "plt.savefig('../output/errorplot.png', bbox_inches='tight')"
   ]
  },
  {
   "cell_type": "code",
   "execution_count": null,
   "metadata": {
    "collapsed": true
   },
   "outputs": [],
   "source": []
  }
 ],
 "metadata": {
  "kernelspec": {
   "display_name": "Python 3",
   "language": "python",
   "name": "python3"
  },
  "language_info": {
   "codemirror_mode": {
    "name": "ipython",
    "version": 3
   },
   "file_extension": ".py",
   "mimetype": "text/x-python",
   "name": "python",
   "nbconvert_exporter": "python",
   "pygments_lexer": "ipython3",
   "version": "3.6.3"
  }
 },
 "nbformat": 4,
 "nbformat_minor": 2
}
